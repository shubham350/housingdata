{
 "cells": [
  {
   "cell_type": "code",
   "execution_count": 2,
   "metadata": {},
   "outputs": [
    {
     "name": "stdout",
     "output_type": "stream",
     "text": [
      "MAE: 15997.645333904109\n"
     ]
    }
   ],
   "source": [
    "import pandas as pd\n",
    "housing_data = pd.read_csv('train.csv')\n",
    "\n",
    "housing_data.dropna(axis=0, subset=['SalePrice'], inplace=True)\n",
    "y = housing_data.SalePrice\n",
    "X = housing_data.drop(columns = 'SalePrice')\n",
    "\n",
    "from sklearn.model_selection import train_test_split\n",
    "\n",
    "X_train, X_valid, y_train, y_valid = train_test_split(X,y, train_size = 0.8, test_size = 0.2, random_state = 0)\n",
    "\n",
    "cat_cols = [c for c in X_train.columns if\n",
    "             X_train[c].dtype == \"object\" ]\n",
    "\n",
    "num_cols = [i for i in X_train.columns if\n",
    "             X_train[i].dtype in ['int64', 'float64']]\n",
    "\n",
    "my_cols = cat_cols + num_cols\n",
    "\n",
    "X.head()\n",
    "\n",
    "from sklearn.compose import ColumnTransformer\n",
    "from sklearn.pipeline import Pipeline\n",
    "from sklearn.impute import SimpleImputer\n",
    "from sklearn.preprocessing import OneHotEncoder\n",
    "from sklearn.metrics import mean_absolute_error\n",
    "from xgboost import XGBRegressor\n",
    "\n",
    "num_trans = SimpleImputer(strategy='constant')\n",
    "\n",
    "cat_trans = Pipeline(steps=[\n",
    "    ('imputer', SimpleImputer(strategy='most_frequent')),\n",
    "    ('onehot', OneHotEncoder(handle_unknown='ignore'))\n",
    "     ])\n",
    "\n",
    "preprocessor = ColumnTransformer(\n",
    "    transformers=[\n",
    "        ('num', num_trans, num_cols),\n",
    "        ('cat', cat_trans, cat_cols)\n",
    "    ])\n",
    "\n",
    "model = XGBRegressor(n_estimators = 500, learning_rate = 0.05)\n",
    "\n",
    "clf = Pipeline(steps=[('preprocessor', preprocessor),\n",
    "                      ('model', model)\n",
    "                     ])\n",
    "\n",
    "clf.fit(X_train, y_train)\n",
    "\n",
    "preds = clf.predict(X_valid)\n",
    "\n",
    "\n",
    "print('MAE:', mean_absolute_error(y_valid, preds))\n",
    "\n",
    "housing_tfile = 'test.csv'\n",
    "housing_tdata = pd.read_csv(housing_tfile)\n",
    "tX = housing_tdata\n",
    "\n",
    "pred = clf.predict(tX)\n",
    "\n",
    "output = pd.DataFrame({'Id': tX.Id,\n",
    "                       'SalePrice': pred})\n",
    "output.to_csv('submission.csv', index=False)\n"
   ]
  },
  {
   "cell_type": "code",
   "execution_count": null,
   "metadata": {},
   "outputs": [],
   "source": []
  }
 ],
 "metadata": {
  "kernelspec": {
   "display_name": "Python 3",
   "language": "python",
   "name": "python3"
  },
  "language_info": {
   "codemirror_mode": {
    "name": "ipython",
    "version": 3
   },
   "file_extension": ".py",
   "mimetype": "text/x-python",
   "name": "python",
   "nbconvert_exporter": "python",
   "pygments_lexer": "ipython3",
   "version": "3.6.7"
  }
 },
 "nbformat": 4,
 "nbformat_minor": 4
}
